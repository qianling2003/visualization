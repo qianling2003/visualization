{
 "cells": [
  {
   "cell_type": "markdown",
   "metadata": {},
   "source": [
    "# 数据处理"
   ]
  },
  {
   "cell_type": "code",
   "execution_count": 1,
   "metadata": {},
   "outputs": [],
   "source": [
    "import numpy as np\n",
    "import pandas as pd\n",
    "%matplotlib inline\n",
    "import warnings\n",
    "warnings.filterwarnings('ignore')"
   ]
  },
  {
   "cell_type": "code",
   "execution_count": 2,
   "metadata": {},
   "outputs": [],
   "source": [
    "df = pd.read_csv(\"E:/desktop/2023win/visualization/DATA/Car/US_Accidents_March23.csv\")"
   ]
  },
  {
   "cell_type": "code",
   "execution_count": 3,
   "metadata": {},
   "outputs": [
    {
     "name": "stdout",
     "output_type": "stream",
     "text": [
      "Size of our Dataset: (7728394, 46)\n"
     ]
    }
   ],
   "source": [
    "print(\"Size of our Dataset:\", df.shape)"
   ]
  },
  {
   "cell_type": "code",
   "execution_count": 4,
   "metadata": {},
   "outputs": [
    {
     "data": {
      "text/html": [
       "<div>\n",
       "<style scoped>\n",
       "    .dataframe tbody tr th:only-of-type {\n",
       "        vertical-align: middle;\n",
       "    }\n",
       "\n",
       "    .dataframe tbody tr th {\n",
       "        vertical-align: top;\n",
       "    }\n",
       "\n",
       "    .dataframe thead th {\n",
       "        text-align: right;\n",
       "    }\n",
       "</style>\n",
       "<table border=\"1\" class=\"dataframe\">\n",
       "  <thead>\n",
       "    <tr style=\"text-align: right;\">\n",
       "      <th></th>\n",
       "      <th>ID</th>\n",
       "      <th>Source</th>\n",
       "      <th>Severity</th>\n",
       "      <th>Start_Time</th>\n",
       "      <th>End_Time</th>\n",
       "      <th>Start_Lat</th>\n",
       "      <th>Start_Lng</th>\n",
       "      <th>End_Lat</th>\n",
       "      <th>End_Lng</th>\n",
       "      <th>Distance(mi)</th>\n",
       "      <th>Description</th>\n",
       "      <th>Street</th>\n",
       "      <th>City</th>\n",
       "      <th>County</th>\n",
       "      <th>State</th>\n",
       "      <th>Zipcode</th>\n",
       "      <th>Country</th>\n",
       "      <th>Timezone</th>\n",
       "      <th>Airport_Code</th>\n",
       "      <th>Weather_Timestamp</th>\n",
       "      <th>Temperature(F)</th>\n",
       "      <th>Wind_Chill(F)</th>\n",
       "      <th>Humidity(%)</th>\n",
       "      <th>Pressure(in)</th>\n",
       "      <th>Visibility(mi)</th>\n",
       "      <th>Wind_Direction</th>\n",
       "      <th>Wind_Speed(mph)</th>\n",
       "      <th>Precipitation(in)</th>\n",
       "      <th>Weather_Condition</th>\n",
       "      <th>Amenity</th>\n",
       "      <th>Bump</th>\n",
       "      <th>Crossing</th>\n",
       "      <th>Give_Way</th>\n",
       "      <th>Junction</th>\n",
       "      <th>No_Exit</th>\n",
       "      <th>Railway</th>\n",
       "      <th>Roundabout</th>\n",
       "      <th>Station</th>\n",
       "      <th>Stop</th>\n",
       "      <th>Traffic_Calming</th>\n",
       "      <th>Traffic_Signal</th>\n",
       "      <th>Turning_Loop</th>\n",
       "      <th>Sunrise_Sunset</th>\n",
       "      <th>Civil_Twilight</th>\n",
       "      <th>Nautical_Twilight</th>\n",
       "      <th>Astronomical_Twilight</th>\n",
       "    </tr>\n",
       "  </thead>\n",
       "  <tbody>\n",
       "    <tr>\n",
       "      <th>0</th>\n",
       "      <td>A-1</td>\n",
       "      <td>Source2</td>\n",
       "      <td>3</td>\n",
       "      <td>2016-02-08 05:46:00</td>\n",
       "      <td>2016-02-08 11:00:00</td>\n",
       "      <td>39.865147</td>\n",
       "      <td>-84.058723</td>\n",
       "      <td>NaN</td>\n",
       "      <td>NaN</td>\n",
       "      <td>0.01</td>\n",
       "      <td>Right lane blocked due to accident on I-70 Eas...</td>\n",
       "      <td>I-70 E</td>\n",
       "      <td>Dayton</td>\n",
       "      <td>Montgomery</td>\n",
       "      <td>OH</td>\n",
       "      <td>45424</td>\n",
       "      <td>US</td>\n",
       "      <td>US/Eastern</td>\n",
       "      <td>KFFO</td>\n",
       "      <td>2016-02-08 05:58:00</td>\n",
       "      <td>36.9</td>\n",
       "      <td>NaN</td>\n",
       "      <td>91.0</td>\n",
       "      <td>29.68</td>\n",
       "      <td>10.0</td>\n",
       "      <td>Calm</td>\n",
       "      <td>NaN</td>\n",
       "      <td>0.02</td>\n",
       "      <td>Light Rain</td>\n",
       "      <td>False</td>\n",
       "      <td>False</td>\n",
       "      <td>False</td>\n",
       "      <td>False</td>\n",
       "      <td>False</td>\n",
       "      <td>False</td>\n",
       "      <td>False</td>\n",
       "      <td>False</td>\n",
       "      <td>False</td>\n",
       "      <td>False</td>\n",
       "      <td>False</td>\n",
       "      <td>False</td>\n",
       "      <td>False</td>\n",
       "      <td>Night</td>\n",
       "      <td>Night</td>\n",
       "      <td>Night</td>\n",
       "      <td>Night</td>\n",
       "    </tr>\n",
       "    <tr>\n",
       "      <th>1</th>\n",
       "      <td>A-2</td>\n",
       "      <td>Source2</td>\n",
       "      <td>2</td>\n",
       "      <td>2016-02-08 06:07:59</td>\n",
       "      <td>2016-02-08 06:37:59</td>\n",
       "      <td>39.928059</td>\n",
       "      <td>-82.831184</td>\n",
       "      <td>NaN</td>\n",
       "      <td>NaN</td>\n",
       "      <td>0.01</td>\n",
       "      <td>Accident on Brice Rd at Tussing Rd. Expect del...</td>\n",
       "      <td>Brice Rd</td>\n",
       "      <td>Reynoldsburg</td>\n",
       "      <td>Franklin</td>\n",
       "      <td>OH</td>\n",
       "      <td>43068-3402</td>\n",
       "      <td>US</td>\n",
       "      <td>US/Eastern</td>\n",
       "      <td>KCMH</td>\n",
       "      <td>2016-02-08 05:51:00</td>\n",
       "      <td>37.9</td>\n",
       "      <td>NaN</td>\n",
       "      <td>100.0</td>\n",
       "      <td>29.65</td>\n",
       "      <td>10.0</td>\n",
       "      <td>Calm</td>\n",
       "      <td>NaN</td>\n",
       "      <td>0.00</td>\n",
       "      <td>Light Rain</td>\n",
       "      <td>False</td>\n",
       "      <td>False</td>\n",
       "      <td>False</td>\n",
       "      <td>False</td>\n",
       "      <td>False</td>\n",
       "      <td>False</td>\n",
       "      <td>False</td>\n",
       "      <td>False</td>\n",
       "      <td>False</td>\n",
       "      <td>False</td>\n",
       "      <td>False</td>\n",
       "      <td>False</td>\n",
       "      <td>False</td>\n",
       "      <td>Night</td>\n",
       "      <td>Night</td>\n",
       "      <td>Night</td>\n",
       "      <td>Day</td>\n",
       "    </tr>\n",
       "    <tr>\n",
       "      <th>2</th>\n",
       "      <td>A-3</td>\n",
       "      <td>Source2</td>\n",
       "      <td>2</td>\n",
       "      <td>2016-02-08 06:49:27</td>\n",
       "      <td>2016-02-08 07:19:27</td>\n",
       "      <td>39.063148</td>\n",
       "      <td>-84.032608</td>\n",
       "      <td>NaN</td>\n",
       "      <td>NaN</td>\n",
       "      <td>0.01</td>\n",
       "      <td>Accident on OH-32 State Route 32 Westbound at ...</td>\n",
       "      <td>State Route 32</td>\n",
       "      <td>Williamsburg</td>\n",
       "      <td>Clermont</td>\n",
       "      <td>OH</td>\n",
       "      <td>45176</td>\n",
       "      <td>US</td>\n",
       "      <td>US/Eastern</td>\n",
       "      <td>KI69</td>\n",
       "      <td>2016-02-08 06:56:00</td>\n",
       "      <td>36.0</td>\n",
       "      <td>33.3</td>\n",
       "      <td>100.0</td>\n",
       "      <td>29.67</td>\n",
       "      <td>10.0</td>\n",
       "      <td>SW</td>\n",
       "      <td>3.5</td>\n",
       "      <td>NaN</td>\n",
       "      <td>Overcast</td>\n",
       "      <td>False</td>\n",
       "      <td>False</td>\n",
       "      <td>False</td>\n",
       "      <td>False</td>\n",
       "      <td>False</td>\n",
       "      <td>False</td>\n",
       "      <td>False</td>\n",
       "      <td>False</td>\n",
       "      <td>False</td>\n",
       "      <td>False</td>\n",
       "      <td>False</td>\n",
       "      <td>True</td>\n",
       "      <td>False</td>\n",
       "      <td>Night</td>\n",
       "      <td>Night</td>\n",
       "      <td>Day</td>\n",
       "      <td>Day</td>\n",
       "    </tr>\n",
       "  </tbody>\n",
       "</table>\n",
       "</div>"
      ],
      "text/plain": [
       "    ID   Source  Severity           Start_Time             End_Time  \\\n",
       "0  A-1  Source2         3  2016-02-08 05:46:00  2016-02-08 11:00:00   \n",
       "1  A-2  Source2         2  2016-02-08 06:07:59  2016-02-08 06:37:59   \n",
       "2  A-3  Source2         2  2016-02-08 06:49:27  2016-02-08 07:19:27   \n",
       "\n",
       "   Start_Lat  Start_Lng  End_Lat  End_Lng  Distance(mi)  \\\n",
       "0  39.865147 -84.058723      NaN      NaN          0.01   \n",
       "1  39.928059 -82.831184      NaN      NaN          0.01   \n",
       "2  39.063148 -84.032608      NaN      NaN          0.01   \n",
       "\n",
       "                                         Description          Street  \\\n",
       "0  Right lane blocked due to accident on I-70 Eas...          I-70 E   \n",
       "1  Accident on Brice Rd at Tussing Rd. Expect del...        Brice Rd   \n",
       "2  Accident on OH-32 State Route 32 Westbound at ...  State Route 32   \n",
       "\n",
       "           City      County State     Zipcode Country    Timezone  \\\n",
       "0        Dayton  Montgomery    OH       45424      US  US/Eastern   \n",
       "1  Reynoldsburg    Franklin    OH  43068-3402      US  US/Eastern   \n",
       "2  Williamsburg    Clermont    OH       45176      US  US/Eastern   \n",
       "\n",
       "  Airport_Code    Weather_Timestamp  Temperature(F)  Wind_Chill(F)  \\\n",
       "0         KFFO  2016-02-08 05:58:00            36.9            NaN   \n",
       "1         KCMH  2016-02-08 05:51:00            37.9            NaN   \n",
       "2         KI69  2016-02-08 06:56:00            36.0           33.3   \n",
       "\n",
       "   Humidity(%)  Pressure(in)  Visibility(mi) Wind_Direction  Wind_Speed(mph)  \\\n",
       "0         91.0         29.68            10.0           Calm              NaN   \n",
       "1        100.0         29.65            10.0           Calm              NaN   \n",
       "2        100.0         29.67            10.0             SW              3.5   \n",
       "\n",
       "   Precipitation(in) Weather_Condition  Amenity   Bump  Crossing  Give_Way  \\\n",
       "0               0.02        Light Rain    False  False     False     False   \n",
       "1               0.00        Light Rain    False  False     False     False   \n",
       "2                NaN          Overcast    False  False     False     False   \n",
       "\n",
       "   Junction  No_Exit  Railway  Roundabout  Station   Stop  Traffic_Calming  \\\n",
       "0     False    False    False       False    False  False            False   \n",
       "1     False    False    False       False    False  False            False   \n",
       "2     False    False    False       False    False  False            False   \n",
       "\n",
       "   Traffic_Signal  Turning_Loop Sunrise_Sunset Civil_Twilight  \\\n",
       "0           False         False          Night          Night   \n",
       "1           False         False          Night          Night   \n",
       "2            True         False          Night          Night   \n",
       "\n",
       "  Nautical_Twilight Astronomical_Twilight  \n",
       "0             Night                 Night  \n",
       "1             Night                   Day  \n",
       "2               Day                   Day  "
      ]
     },
     "execution_count": 4,
     "metadata": {},
     "output_type": "execute_result"
    }
   ],
   "source": [
    "pd.set_option('display.max_columns', None)\n",
    "df.head(3)"
   ]
  },
  {
   "cell_type": "code",
   "execution_count": 7,
   "metadata": {},
   "outputs": [
    {
     "name": "stdout",
     "output_type": "stream",
     "text": [
      "'----------------------------------------------------------------------'\n",
      "'No. of Rows: 7426729        No. of Columns : 46'\n",
      "'----------------------------------------------------------------------'\n",
      "                      DataType  Missing Values  Missing %  Unique Values\n",
      "ID                      object               0       0.00        7426729\n",
      "Source                  object               0       0.00              3\n",
      "Severity                 int64               0       0.00              4\n",
      "Start_Time              object               0       0.00        5926304\n",
      "End_Time                object               0       0.00        6470695\n",
      "Start_Lat              float64               0       0.00        2347656\n",
      "Start_Lng              float64               0       0.00        2396804\n",
      "End_Lat                float64         3301235      44.45        1505858\n",
      "End_Lng                float64         3301235      44.45        1540815\n",
      "Distance(mi)           float64               0       0.00          21834\n",
      "Description             object               0       0.00        3632562\n",
      "Street                  object               0       0.00         327345\n",
      "City                    object               0       0.00          12237\n",
      "County                  object               0       0.00           1813\n",
      "State                   object               0       0.00             49\n",
      "Zipcode                 object               0       0.00         800171\n",
      "Country                 object               0       0.00              1\n",
      "Timezone                object               0       0.00              4\n",
      "Airport_Code            object               0       0.00           1995\n",
      "Weather_Timestamp       object               0       0.00         928825\n",
      "Temperature(F)         float64               0       0.00            845\n",
      "Wind_Chill(F)          float64               0       0.00            994\n",
      "Humidity(%)            float64               0       0.00            100\n",
      "Pressure(in)           float64               0       0.00           1133\n",
      "Visibility(mi)         float64               0       0.00             87\n",
      "Wind_Direction          object               0       0.00             24\n",
      "Wind_Speed(mph)        float64               0       0.00            180\n",
      "Precipitation(in)      float64               0       0.00            289\n",
      "Weather_Condition       object               0       0.00            142\n",
      "Amenity                   bool               0       0.00              2\n",
      "Bump                      bool               0       0.00              2\n",
      "Crossing                  bool               0       0.00              2\n",
      "Give_Way                  bool               0       0.00              2\n",
      "Junction                  bool               0       0.00              2\n",
      "No_Exit                   bool               0       0.00              2\n",
      "Railway                   bool               0       0.00              2\n",
      "Roundabout                bool               0       0.00              2\n",
      "Station                   bool               0       0.00              2\n",
      "Stop                      bool               0       0.00              2\n",
      "Traffic_Calming           bool               0       0.00              2\n",
      "Traffic_Signal            bool               0       0.00              2\n",
      "Turning_Loop              bool               0       0.00              1\n",
      "Sunrise_Sunset          object               0       0.00              2\n",
      "Civil_Twilight          object               0       0.00              2\n",
      "Nautical_Twilight       object               0       0.00              2\n",
      "Astronomical_Twilight   object               0       0.00              2\n",
      "'----------------------------------------------------------------------'\n"
     ]
    }
   ],
   "source": [
    "from pprint import pprint\n",
    "def sanity_check(df):\n",
    "    pd.set_option('display.max_columns', None)\n",
    "    pprint('-'*70)\n",
    "    pprint('No. of Rows: {0[0]}        No. of Columns : {0[1]}'.format(df.shape))\n",
    "    pprint('-'*70)\n",
    "    data_profile = pd.DataFrame(df.dtypes.reset_index()).rename(columns = {'index':'Attribute', 0:'DataType'}).set_index('Attribute')\n",
    "    \n",
    "    data_profile = pd.concat([data_profile,df.isnull().sum()], axis=1).rename(columns = {0 : 'Missing Values'})\n",
    "    data_profile = pd.concat([data_profile,(df.isnull().mean()*100).round(2)], axis=1).rename(columns = {0 : 'Missing %'})\n",
    "    data_profile = pd.concat([data_profile,df.nunique()], axis=1).rename(columns = {0 : 'Unique Values'})\n",
    "    \n",
    "    pprint(data_profile)\n",
    "    pprint('-'*70)\n",
    "\n",
    "sanity_check(df)"
   ]
  },
  {
   "cell_type": "code",
   "execution_count": 9,
   "metadata": {},
   "outputs": [],
   "source": [
    "# # Specify the names of the columns to be dropped\n",
    "# cols2drop = ['End_Lat', 'End_Lng', 'ID', 'Source', 'Airport_Code', 'Weather_Timestamp', 'Timezone']\n",
    "\n",
    "# # Use the drop() method to remove the specified columns\n",
    "# df.drop(columns=cols2drop, inplace=True)"
   ]
  },
  {
   "cell_type": "markdown",
   "metadata": {},
   "source": [
    "## 去除不感兴趣数据"
   ]
  },
  {
   "cell_type": "code",
   "execution_count": 6,
   "metadata": {},
   "outputs": [],
   "source": [
    "# Specify the names of the columns to be dropped\n",
    "cols2drop = ['End_Lat', 'End_Lng', 'ID', 'Source', 'Airport_Code', 'Weather_Timestamp', 'Civil_Twilight', 'Nautical_Twilight', 'Astronomical_Twilight', 'Timezone']\n",
    "\n",
    "# Use the drop() method to remove the specified columns\n",
    "df.drop(columns=cols2drop, inplace=True)"
   ]
  },
  {
   "cell_type": "code",
   "execution_count": 3,
   "metadata": {},
   "outputs": [],
   "source": [
    "# 去除国家不是美国的记录\n",
    "df = df[df['Country'] == 'US']"
   ]
  },
  {
   "cell_type": "code",
   "execution_count": 10,
   "metadata": {},
   "outputs": [
    {
     "name": "stdout",
     "output_type": "stream",
     "text": [
      "'----------------------------------------------------------------------'\n",
      "'No. of Rows: 7426729        No. of Columns : 39'\n",
      "'----------------------------------------------------------------------'\n",
      "                      DataType  Missing Values  Missing %  Unique Values\n",
      "Severity                 int64               0        0.0              4\n",
      "Start_Time              object               0        0.0        5926304\n",
      "End_Time                object               0        0.0        6470695\n",
      "Start_Lat              float64               0        0.0        2347656\n",
      "Start_Lng              float64               0        0.0        2396804\n",
      "Distance(mi)           float64               0        0.0          21834\n",
      "Description             object               0        0.0        3632562\n",
      "Street                  object               0        0.0         327345\n",
      "City                    object               0        0.0          12237\n",
      "County                  object               0        0.0           1813\n",
      "State                   object               0        0.0             49\n",
      "Zipcode                 object               0        0.0         800171\n",
      "Country                 object               0        0.0              1\n",
      "Temperature(F)         float64               0        0.0            845\n",
      "Wind_Chill(F)          float64               0        0.0            994\n",
      "Humidity(%)            float64               0        0.0            100\n",
      "Pressure(in)           float64               0        0.0           1133\n",
      "Visibility(mi)         float64               0        0.0             87\n",
      "Wind_Direction          object               0        0.0             24\n",
      "Wind_Speed(mph)        float64               0        0.0            180\n",
      "Precipitation(in)      float64               0        0.0            289\n",
      "Weather_Condition       object               0        0.0            142\n",
      "Amenity                   bool               0        0.0              2\n",
      "Bump                      bool               0        0.0              2\n",
      "Crossing                  bool               0        0.0              2\n",
      "Give_Way                  bool               0        0.0              2\n",
      "Junction                  bool               0        0.0              2\n",
      "No_Exit                   bool               0        0.0              2\n",
      "Railway                   bool               0        0.0              2\n",
      "Roundabout                bool               0        0.0              2\n",
      "Station                   bool               0        0.0              2\n",
      "Stop                      bool               0        0.0              2\n",
      "Traffic_Calming           bool               0        0.0              2\n",
      "Traffic_Signal            bool               0        0.0              2\n",
      "Turning_Loop              bool               0        0.0              1\n",
      "Sunrise_Sunset          object               0        0.0              2\n",
      "Civil_Twilight          object               0        0.0              2\n",
      "Nautical_Twilight       object               0        0.0              2\n",
      "Astronomical_Twilight   object               0        0.0              2\n",
      "'----------------------------------------------------------------------'\n"
     ]
    }
   ],
   "source": [
    "sanity_check(df)"
   ]
  },
  {
   "cell_type": "markdown",
   "metadata": {},
   "source": [
    "## 处理缺失值"
   ]
  },
  {
   "cell_type": "code",
   "execution_count": 4,
   "metadata": {},
   "outputs": [],
   "source": [
    "# 缺失值小于5%的删除\n",
    "df.dropna(subset=['Visibility(mi)', 'Wind_Direction', 'Description', 'Humidity(%)', 'Weather_Condition', 'Temperature(F)', 'Pressure(in)', 'Sunrise_Sunset', 'Street', 'Zipcode'], inplace=True)"
   ]
  },
  {
   "cell_type": "code",
   "execution_count": 5,
   "metadata": {},
   "outputs": [],
   "source": [
    "# 用平均值填充缺失值大于5%的数据\n",
    "columns = ['Precipitation(in)', 'Wind_Chill(F)', 'Wind_Speed(mph)']\n",
    "\n",
    "for c in columns:\n",
    "    df[c].fillna(df[c].mean(), inplace=True)"
   ]
  },
  {
   "cell_type": "code",
   "execution_count": 8,
   "metadata": {},
   "outputs": [
    {
     "name": "stdout",
     "output_type": "stream",
     "text": [
      "'----------------------------------------------------------------------'\n",
      "'No. of Rows: 7426729        No. of Columns : 46'\n",
      "'----------------------------------------------------------------------'\n",
      "                      DataType  Missing Values  Missing %  Unique Values\n",
      "ID                      object               0       0.00        7426729\n",
      "Source                  object               0       0.00              3\n",
      "Severity                 int64               0       0.00              4\n",
      "Start_Time              object               0       0.00        5926304\n",
      "End_Time                object               0       0.00        6470695\n",
      "Start_Lat              float64               0       0.00        2347656\n",
      "Start_Lng              float64               0       0.00        2396804\n",
      "End_Lat                float64         3301235      44.45        1505858\n",
      "End_Lng                float64         3301235      44.45        1540815\n",
      "Distance(mi)           float64               0       0.00          21834\n",
      "Description             object               0       0.00        3632562\n",
      "Street                  object               0       0.00         327345\n",
      "City                    object               0       0.00          12237\n",
      "County                  object               0       0.00           1813\n",
      "State                   object               0       0.00             49\n",
      "Zipcode                 object               0       0.00         800171\n",
      "Country                 object               0       0.00              1\n",
      "Timezone                object               0       0.00              4\n",
      "Airport_Code            object               0       0.00           1995\n",
      "Weather_Timestamp       object               0       0.00         928825\n",
      "Temperature(F)         float64               0       0.00            845\n",
      "Wind_Chill(F)          float64               0       0.00            994\n",
      "Humidity(%)            float64               0       0.00            100\n",
      "Pressure(in)           float64               0       0.00           1133\n",
      "Visibility(mi)         float64               0       0.00             87\n",
      "Wind_Direction          object               0       0.00             24\n",
      "Wind_Speed(mph)        float64               0       0.00            180\n",
      "Precipitation(in)      float64               0       0.00            289\n",
      "Weather_Condition       object               0       0.00            142\n",
      "Amenity                   bool               0       0.00              2\n",
      "Bump                      bool               0       0.00              2\n",
      "Crossing                  bool               0       0.00              2\n",
      "Give_Way                  bool               0       0.00              2\n",
      "Junction                  bool               0       0.00              2\n",
      "No_Exit                   bool               0       0.00              2\n",
      "Railway                   bool               0       0.00              2\n",
      "Roundabout                bool               0       0.00              2\n",
      "Station                   bool               0       0.00              2\n",
      "Stop                      bool               0       0.00              2\n",
      "Traffic_Calming           bool               0       0.00              2\n",
      "Traffic_Signal            bool               0       0.00              2\n",
      "Turning_Loop              bool               0       0.00              1\n",
      "Sunrise_Sunset          object               0       0.00              2\n",
      "Civil_Twilight          object               0       0.00              2\n",
      "Nautical_Twilight       object               0       0.00              2\n",
      "Astronomical_Twilight   object               0       0.00              2\n",
      "'----------------------------------------------------------------------'\n"
     ]
    }
   ],
   "source": [
    "sanity_check(df)"
   ]
  },
  {
   "cell_type": "markdown",
   "metadata": {},
   "source": [
    "## 去除重复值"
   ]
  },
  {
   "cell_type": "code",
   "execution_count": 11,
   "metadata": {},
   "outputs": [
    {
     "name": "stdout",
     "output_type": "stream",
     "text": [
      "Number of rows: 7426729\n",
      "Number of rows after dropping duplicates: 7329850\n"
     ]
    }
   ],
   "source": [
    "# 去除重复值\n",
    "print(\"Number of rows:\", len(df.index))\n",
    "df.drop_duplicates(inplace=True)\n",
    "print(\"Number of rows after dropping duplicates:\", len(df.index))"
   ]
  },
  {
   "cell_type": "markdown",
   "metadata": {},
   "source": [
    "## 后加处理"
   ]
  },
  {
   "cell_type": "code",
   "execution_count": 14,
   "metadata": {},
   "outputs": [
    {
     "name": "stdout",
     "output_type": "stream",
     "text": [
      "[\n",
      "    {\n",
      "        \"name\": \"Sunrise_Sunset\",\n",
      "        \"value\": 7329850,\n",
      "        \"children\": [\n",
      "            {\n",
      "                \"name\": \"Night\",\n",
      "                \"value\": 2225490\n",
      "            },\n",
      "            {\n",
      "                \"name\": \"Day\",\n",
      "                \"value\": 5104360\n",
      "            }\n",
      "        ]\n",
      "    },\n",
      "    {\n",
      "        \"name\": \"Civil_Twilight\",\n",
      "        \"value\": 7329850,\n",
      "        \"children\": [\n",
      "            {\n",
      "                \"name\": \"Night\",\n",
      "                \"value\": 1880175\n",
      "            },\n",
      "            {\n",
      "                \"name\": \"Day\",\n",
      "                \"value\": 5449675\n",
      "            }\n",
      "        ]\n",
      "    },\n",
      "    {\n",
      "        \"name\": \"Nautical_Twilight\",\n",
      "        \"value\": 7329850,\n",
      "        \"children\": [\n",
      "            {\n",
      "                \"name\": \"Night\",\n",
      "                \"value\": 1516708\n",
      "            },\n",
      "            {\n",
      "                \"name\": \"Day\",\n",
      "                \"value\": 5813142\n",
      "            }\n",
      "        ]\n",
      "    },\n",
      "    {\n",
      "        \"name\": \"Astronomical_Twilight\",\n",
      "        \"value\": 7329850,\n",
      "        \"children\": [\n",
      "            {\n",
      "                \"name\": \"Night\",\n",
      "                \"value\": 1229761\n",
      "            },\n",
      "            {\n",
      "                \"name\": \"Day\",\n",
      "                \"value\": 6100089\n",
      "            }\n",
      "        ]\n",
      "    }\n",
      "]\n"
     ]
    }
   ],
   "source": [
    "import json\n",
    "\n",
    "twilight_fields = ['Sunrise_Sunset', 'Civil_Twilight', 'Nautical_Twilight', 'Astronomical_Twilight']\n",
    "\n",
    "# 初始化一个列表来存储结果\n",
    "result_list = []\n",
    "\n",
    "# 遍历每个字段，统计 'night' 和 'day' 的数量\n",
    "for field in twilight_fields:\n",
    "    night_count = df[df[field] == 'Night'].shape[0]\n",
    "    day_count = df[df[field] == 'Day'].shape[0]\n",
    "    \n",
    "    # 构造结果字典\n",
    "    result_dict = {\n",
    "        \"name\": field,\n",
    "        \"value\": night_count + day_count,\n",
    "        \"children\": [\n",
    "            {\"name\": \"Night\", \"value\": night_count},\n",
    "            {\"name\": \"Day\", \"value\": day_count}\n",
    "        ]\n",
    "    }\n",
    "\n",
    "    result_list.append(result_dict)\n",
    "\n",
    "# 将结果列表转换为JSON格式\n",
    "json_result = json.dumps(result_list, indent=4)\n",
    "\n",
    "# 打印JSON结果\n",
    "print(json_result)"
   ]
  },
  {
   "cell_type": "markdown",
   "metadata": {},
   "source": [
    "## 后加处理结束"
   ]
  },
  {
   "cell_type": "code",
   "execution_count": 13,
   "metadata": {},
   "outputs": [],
   "source": [
    "# 将 DataFrame 保存到另一个 CSV 文件\n",
    "df.to_csv(\"E:/desktop/2023win/visualization/DATA/Car/US_Accidents_clean.csv\", index=False)# 将 DataFrame 保存到另一个 CSV 文件"
   ]
  },
  {
   "cell_type": "markdown",
   "metadata": {},
   "source": [
    "# 数据计算与分析"
   ]
  },
  {
   "cell_type": "code",
   "execution_count": 4,
   "metadata": {},
   "outputs": [],
   "source": [
    "df = pd.read_csv(\"E:/desktop/2023win/visualization/DATA/Car/US_Accidents_clean.csv\")"
   ]
  },
  {
   "cell_type": "markdown",
   "metadata": {},
   "source": [
    "## 数量统计"
   ]
  },
  {
   "cell_type": "code",
   "execution_count": 27,
   "metadata": {},
   "outputs": [],
   "source": [
    "# 计算每个州的车祸总数\n",
    "state_counts = df[\"State\"].value_counts()"
   ]
  },
  {
   "cell_type": "code",
   "execution_count": 28,
   "metadata": {},
   "outputs": [],
   "source": [
    "state_counts_df = pd.DataFrame({'State': state_counts.index, 'count': state_counts.values})"
   ]
  },
  {
   "cell_type": "code",
   "execution_count": 32,
   "metadata": {},
   "outputs": [
    {
     "name": "stdout",
     "output_type": "stream",
     "text": [
      "重命名前的列名:\n",
      "Index(['index', 'State'], dtype='object')\n",
      "\n",
      "重命名后的列名:\n",
      "Index(['state_code', 'cases'], dtype='object')\n",
      "\n",
      "排序后的 DataFrame:\n",
      "  state_code    cases\n",
      "0         CA  1651043\n",
      "1         FL   838319\n",
      "2         TX   562295\n",
      "3         SC   368624\n",
      "4         NY   331885\n",
      "\n",
      "重复值:\n",
      "Empty DataFrame\n",
      "Columns: [state_code, cases]\n",
      "Index: []\n"
     ]
    }
   ],
   "source": [
    "# 将州的车祸数量转换为 DataFrame\n",
    "states = pd.DataFrame(state_counts).reset_index()\n",
    "\n",
    "# 打印重命名前的列名\n",
    "print(\"重命名前的列名:\")\n",
    "print(states.columns)\n",
    "\n",
    "# 重命名列\n",
    "states.rename(columns={'index': 'state_code', 'State': 'cases'}, inplace=True)\n",
    "\n",
    "# 打印重命名后的列名\n",
    "print(\"\\n重命名后的列名:\")\n",
    "print(states.columns)\n",
    "\n",
    "# 按照车祸数量排序 DataFrame\n",
    "states = states.sort_values(by='cases', ascending=False)\n",
    "\n",
    "# 检查是否有重复值\n",
    "duplicates = states[states.duplicated(subset=['state_code'], keep=False)]\n",
    "\n",
    "# 打印排序后的 DataFrame\n",
    "print(\"\\n排序后的 DataFrame:\")\n",
    "print(states.head())\n",
    "\n",
    "# 打印任何重复值\n",
    "print('\\n重复值:')\n",
    "print(duplicates)\n"
   ]
  },
  {
   "cell_type": "code",
   "execution_count": 33,
   "metadata": {},
   "outputs": [
    {
     "data": {
      "text/html": [
       "<div>\n",
       "<style scoped>\n",
       "    .dataframe tbody tr th:only-of-type {\n",
       "        vertical-align: middle;\n",
       "    }\n",
       "\n",
       "    .dataframe tbody tr th {\n",
       "        vertical-align: top;\n",
       "    }\n",
       "\n",
       "    .dataframe thead th {\n",
       "        text-align: right;\n",
       "    }\n",
       "</style>\n",
       "<table border=\"1\" class=\"dataframe\">\n",
       "  <thead>\n",
       "    <tr style=\"text-align: right;\">\n",
       "      <th></th>\n",
       "      <th>state_code</th>\n",
       "      <th>cases</th>\n",
       "    </tr>\n",
       "  </thead>\n",
       "  <tbody>\n",
       "    <tr>\n",
       "      <th>0</th>\n",
       "      <td>CA</td>\n",
       "      <td>1651043</td>\n",
       "    </tr>\n",
       "    <tr>\n",
       "      <th>1</th>\n",
       "      <td>FL</td>\n",
       "      <td>838319</td>\n",
       "    </tr>\n",
       "    <tr>\n",
       "      <th>2</th>\n",
       "      <td>TX</td>\n",
       "      <td>562295</td>\n",
       "    </tr>\n",
       "    <tr>\n",
       "      <th>3</th>\n",
       "      <td>SC</td>\n",
       "      <td>368624</td>\n",
       "    </tr>\n",
       "    <tr>\n",
       "      <th>4</th>\n",
       "      <td>NY</td>\n",
       "      <td>331885</td>\n",
       "    </tr>\n",
       "  </tbody>\n",
       "</table>\n",
       "</div>"
      ],
      "text/plain": [
       "  state_code    cases\n",
       "0         CA  1651043\n",
       "1         FL   838319\n",
       "2         TX   562295\n",
       "3         SC   368624\n",
       "4         NY   331885"
      ]
     },
     "execution_count": 33,
     "metadata": {},
     "output_type": "execute_result"
    }
   ],
   "source": [
    "# # convert the states series into a DataFrame\n",
    "# states = pd.DataFrame(state_counts).reset_index()\n",
    "\n",
    "# # rename the columns\n",
    "# states.rename(columns={'State': 'state_code', 'count': 'cases'}, inplace=True)\n",
    "\n",
    "# sort the DataFrame by cases (the no. of accidents)\n",
    "states = states.sort_values(by='cases', ascending=False)\n",
    "\n",
    "# print the sorted DataFrame\n",
    "states.head()\n"
   ]
  },
  {
   "cell_type": "code",
   "execution_count": 34,
   "metadata": {},
   "outputs": [
    {
     "data": {
      "text/html": [
       "<div>\n",
       "<style scoped>\n",
       "    .dataframe tbody tr th:only-of-type {\n",
       "        vertical-align: middle;\n",
       "    }\n",
       "\n",
       "    .dataframe tbody tr th {\n",
       "        vertical-align: top;\n",
       "    }\n",
       "\n",
       "    .dataframe thead th {\n",
       "        text-align: right;\n",
       "    }\n",
       "</style>\n",
       "<table border=\"1\" class=\"dataframe\">\n",
       "  <thead>\n",
       "    <tr style=\"text-align: right;\">\n",
       "      <th></th>\n",
       "      <th>state_code</th>\n",
       "      <th>cases</th>\n",
       "      <th>state</th>\n",
       "    </tr>\n",
       "  </thead>\n",
       "  <tbody>\n",
       "    <tr>\n",
       "      <th>0</th>\n",
       "      <td>CA</td>\n",
       "      <td>1651043</td>\n",
       "      <td>California</td>\n",
       "    </tr>\n",
       "    <tr>\n",
       "      <th>1</th>\n",
       "      <td>FL</td>\n",
       "      <td>838319</td>\n",
       "      <td>Florida</td>\n",
       "    </tr>\n",
       "    <tr>\n",
       "      <th>2</th>\n",
       "      <td>TX</td>\n",
       "      <td>562295</td>\n",
       "      <td>Texas</td>\n",
       "    </tr>\n",
       "    <tr>\n",
       "      <th>3</th>\n",
       "      <td>SC</td>\n",
       "      <td>368624</td>\n",
       "      <td>South Carolina</td>\n",
       "    </tr>\n",
       "    <tr>\n",
       "      <th>4</th>\n",
       "      <td>NY</td>\n",
       "      <td>331885</td>\n",
       "      <td>New York</td>\n",
       "    </tr>\n",
       "  </tbody>\n",
       "</table>\n",
       "</div>"
      ],
      "text/plain": [
       "  state_code    cases           state\n",
       "0         CA  1651043      California\n",
       "1         FL   838319         Florida\n",
       "2         TX   562295           Texas\n",
       "3         SC   368624  South Carolina\n",
       "4         NY   331885        New York"
      ]
     },
     "execution_count": 34,
     "metadata": {},
     "output_type": "execute_result"
    }
   ],
   "source": [
    "# 换掉简称\n",
    "us_states = {\n",
    "    'AL': 'Alabama', 'AK': 'Alaska', 'AZ': 'Arizona', 'AR': 'Arkansas', 'CA': 'California',\n",
    "    'CO': 'Colorado', 'CT': 'Connecticut', 'DE': 'Delaware', 'FL': 'Florida', 'GA': 'Georgia',\n",
    "    'HI': 'Hawaii', 'ID': 'Idaho', 'IL': 'Illinois', 'IN': 'Indiana', 'IA': 'Iowa', 'KS': 'Kansas',\n",
    "    'KY': 'Kentucky', 'LA': 'Louisiana', 'ME': 'Maine', 'MD': 'Maryland', 'MA': 'Massachusetts',\n",
    "    'MI': 'Michigan', 'MN': 'Minnesota', 'MS': 'Mississippi', 'MO': 'Missouri', 'MT': 'Montana',\n",
    "    'NE': 'Nebraska', 'NV': 'Nevada', 'NH': 'New Hampshire', 'NJ': 'New Jersey', 'NM': 'New Mexico',\n",
    "    'NY': 'New York', 'NC': 'North Carolina', 'ND': 'North Dakota', 'OH': 'Ohio', 'OK': 'Oklahoma',\n",
    "    'OR': 'Oregon', 'PA': 'Pennsylvania', 'RI': 'Rhode Island', 'SC': 'South Carolina',\n",
    "    'SD': 'South Dakota', 'TN': 'Tennessee', 'TX': 'Texas', 'UT': 'Utah', 'VT': 'Vermont',\n",
    "    'VA': 'Virginia', 'WA': 'Washington', 'WV': 'West Virginia', 'WI': 'Wisconsin', 'WY': 'Wyoming'\n",
    "}\n",
    "\n",
    "# Add a new column 'State_Name' based on 'State_Code'\n",
    "states['state'] = states['state_code'].map(us_states)\n",
    "\n",
    "# Display the updated DataFrame\n",
    "states.head()"
   ]
  },
  {
   "cell_type": "code",
   "execution_count": 37,
   "metadata": {},
   "outputs": [],
   "source": [
    "states.to_csv(\"E:/desktop/2023win/visualization/DATA/Car/AfterCalculate/state_count.csv\", index=False)"
   ]
  },
  {
   "cell_type": "code",
   "execution_count": 35,
   "metadata": {},
   "outputs": [],
   "source": [
    "top_10 = states[:10]"
   ]
  },
  {
   "cell_type": "code",
   "execution_count": 36,
   "metadata": {},
   "outputs": [],
   "source": [
    "top_10.to_csv(\"E:/desktop/2023win/visualization/DATA/Car/AfterCalculate/state_top_10.csv\", index=False)"
   ]
  },
  {
   "cell_type": "code",
   "execution_count": 4,
   "metadata": {},
   "outputs": [],
   "source": [
    "# 每个城市\n",
    "cities = pd.DataFrame(df[\"City\"].value_counts()).reset_index().sort_values(by='City',ascending=False)\n",
    "cities = cities.rename(columns={'index':'city','City':'cases'})"
   ]
  },
  {
   "cell_type": "code",
   "execution_count": 5,
   "metadata": {},
   "outputs": [],
   "source": [
    "cities.to_csv(\"E:/desktop/2023win/visualization/DATA/Car/AfterCalculate/cities_count.csv\", index=False)"
   ]
  },
  {
   "cell_type": "markdown",
   "metadata": {},
   "source": [
    "## *时间统计*"
   ]
  },
  {
   "cell_type": "code",
   "execution_count": 6,
   "metadata": {},
   "outputs": [],
   "source": [
    "# 将 \"Start_Time\" 列转换为 datetime 类型\n",
    "df[\"Start_Time\"] = pd.to_datetime(df[\"Start_Time\"], format=\"%Y-%m-%d %H:%M:%S\", errors='coerce', dayfirst=True)\n",
    "\n",
    "# 将 \"End_Time\" 列转换为 datetime 类型\n",
    "df[\"End_Time\"] = pd.to_datetime(df[\"End_Time\"], format=\"%Y-%m-%d %H:%M:%S\", errors='coerce', dayfirst=True)\n",
    "\n",
    "# 提取年、月、星期几、日期和小时信息\n",
    "df[\"Year\"] = df[\"Start_Time\"].dt.year\n",
    "df[\"Month\"] = df[\"Start_Time\"].dt.month\n",
    "df[\"Weekday\"] = df[\"Start_Time\"].dt.weekday\n",
    "df[\"Day\"] = df[\"Start_Time\"].dt.day\n",
    "df[\"Hour\"] = df[\"Start_Time\"].dt.hour\n"
   ]
  },
  {
   "cell_type": "code",
   "execution_count": 13,
   "metadata": {},
   "outputs": [
    {
     "data": {
      "text/html": [
       "<div>\n",
       "<style scoped>\n",
       "    .dataframe tbody tr th:only-of-type {\n",
       "        vertical-align: middle;\n",
       "    }\n",
       "\n",
       "    .dataframe tbody tr th {\n",
       "        vertical-align: top;\n",
       "    }\n",
       "\n",
       "    .dataframe thead th {\n",
       "        text-align: right;\n",
       "    }\n",
       "</style>\n",
       "<table border=\"1\" class=\"dataframe\">\n",
       "  <thead>\n",
       "    <tr style=\"text-align: right;\">\n",
       "      <th></th>\n",
       "      <th>Severity</th>\n",
       "      <th>Start_Time</th>\n",
       "      <th>End_Time</th>\n",
       "      <th>Start_Lat</th>\n",
       "      <th>Start_Lng</th>\n",
       "      <th>Distance(mi)</th>\n",
       "      <th>Description</th>\n",
       "      <th>Street</th>\n",
       "      <th>City</th>\n",
       "      <th>County</th>\n",
       "      <th>...</th>\n",
       "      <th>Stop</th>\n",
       "      <th>Traffic_Calming</th>\n",
       "      <th>Traffic_Signal</th>\n",
       "      <th>Turning_Loop</th>\n",
       "      <th>Sunrise_Sunset</th>\n",
       "      <th>Year</th>\n",
       "      <th>Month</th>\n",
       "      <th>Weekday</th>\n",
       "      <th>Day</th>\n",
       "      <th>Hour</th>\n",
       "    </tr>\n",
       "  </thead>\n",
       "  <tbody>\n",
       "    <tr>\n",
       "      <th>0</th>\n",
       "      <td>3</td>\n",
       "      <td>2016-02-08 05:46:00</td>\n",
       "      <td>2016-02-08 11:00:00</td>\n",
       "      <td>39.865147</td>\n",
       "      <td>-84.058723</td>\n",
       "      <td>0.01</td>\n",
       "      <td>Right lane blocked due to accident on I-70 Eas...</td>\n",
       "      <td>I-70 E</td>\n",
       "      <td>Dayton</td>\n",
       "      <td>Montgomery</td>\n",
       "      <td>...</td>\n",
       "      <td>False</td>\n",
       "      <td>False</td>\n",
       "      <td>False</td>\n",
       "      <td>False</td>\n",
       "      <td>Night</td>\n",
       "      <td>2016</td>\n",
       "      <td>2</td>\n",
       "      <td>0</td>\n",
       "      <td>8</td>\n",
       "      <td>5</td>\n",
       "    </tr>\n",
       "    <tr>\n",
       "      <th>1</th>\n",
       "      <td>2</td>\n",
       "      <td>2016-02-08 06:07:59</td>\n",
       "      <td>2016-02-08 06:37:59</td>\n",
       "      <td>39.928059</td>\n",
       "      <td>-82.831184</td>\n",
       "      <td>0.01</td>\n",
       "      <td>Accident on Brice Rd at Tussing Rd. Expect del...</td>\n",
       "      <td>Brice Rd</td>\n",
       "      <td>Reynoldsburg</td>\n",
       "      <td>Franklin</td>\n",
       "      <td>...</td>\n",
       "      <td>False</td>\n",
       "      <td>False</td>\n",
       "      <td>False</td>\n",
       "      <td>False</td>\n",
       "      <td>Night</td>\n",
       "      <td>2016</td>\n",
       "      <td>2</td>\n",
       "      <td>0</td>\n",
       "      <td>8</td>\n",
       "      <td>6</td>\n",
       "    </tr>\n",
       "    <tr>\n",
       "      <th>2</th>\n",
       "      <td>2</td>\n",
       "      <td>2016-02-08 06:49:27</td>\n",
       "      <td>2016-02-08 07:19:27</td>\n",
       "      <td>39.063148</td>\n",
       "      <td>-84.032608</td>\n",
       "      <td>0.01</td>\n",
       "      <td>Accident on OH-32 State Route 32 Westbound at ...</td>\n",
       "      <td>State Route 32</td>\n",
       "      <td>Williamsburg</td>\n",
       "      <td>Clermont</td>\n",
       "      <td>...</td>\n",
       "      <td>False</td>\n",
       "      <td>False</td>\n",
       "      <td>True</td>\n",
       "      <td>False</td>\n",
       "      <td>Night</td>\n",
       "      <td>2016</td>\n",
       "      <td>2</td>\n",
       "      <td>0</td>\n",
       "      <td>8</td>\n",
       "      <td>6</td>\n",
       "    </tr>\n",
       "    <tr>\n",
       "      <th>3</th>\n",
       "      <td>3</td>\n",
       "      <td>2016-02-08 07:23:34</td>\n",
       "      <td>2016-02-08 07:53:34</td>\n",
       "      <td>39.747753</td>\n",
       "      <td>-84.205582</td>\n",
       "      <td>0.01</td>\n",
       "      <td>Accident on I-75 Southbound at Exits 52 52B US...</td>\n",
       "      <td>I-75 S</td>\n",
       "      <td>Dayton</td>\n",
       "      <td>Montgomery</td>\n",
       "      <td>...</td>\n",
       "      <td>False</td>\n",
       "      <td>False</td>\n",
       "      <td>False</td>\n",
       "      <td>False</td>\n",
       "      <td>Night</td>\n",
       "      <td>2016</td>\n",
       "      <td>2</td>\n",
       "      <td>0</td>\n",
       "      <td>8</td>\n",
       "      <td>7</td>\n",
       "    </tr>\n",
       "    <tr>\n",
       "      <th>4</th>\n",
       "      <td>2</td>\n",
       "      <td>2016-02-08 07:39:07</td>\n",
       "      <td>2016-02-08 08:09:07</td>\n",
       "      <td>39.627781</td>\n",
       "      <td>-84.188354</td>\n",
       "      <td>0.01</td>\n",
       "      <td>Accident on McEwen Rd at OH-725 Miamisburg Cen...</td>\n",
       "      <td>Miamisburg Centerville Rd</td>\n",
       "      <td>Dayton</td>\n",
       "      <td>Montgomery</td>\n",
       "      <td>...</td>\n",
       "      <td>False</td>\n",
       "      <td>False</td>\n",
       "      <td>True</td>\n",
       "      <td>False</td>\n",
       "      <td>Day</td>\n",
       "      <td>2016</td>\n",
       "      <td>2</td>\n",
       "      <td>0</td>\n",
       "      <td>8</td>\n",
       "      <td>7</td>\n",
       "    </tr>\n",
       "  </tbody>\n",
       "</table>\n",
       "<p>5 rows × 41 columns</p>\n",
       "</div>"
      ],
      "text/plain": [
       "   Severity          Start_Time            End_Time  Start_Lat  Start_Lng  \\\n",
       "0         3 2016-02-08 05:46:00 2016-02-08 11:00:00  39.865147 -84.058723   \n",
       "1         2 2016-02-08 06:07:59 2016-02-08 06:37:59  39.928059 -82.831184   \n",
       "2         2 2016-02-08 06:49:27 2016-02-08 07:19:27  39.063148 -84.032608   \n",
       "3         3 2016-02-08 07:23:34 2016-02-08 07:53:34  39.747753 -84.205582   \n",
       "4         2 2016-02-08 07:39:07 2016-02-08 08:09:07  39.627781 -84.188354   \n",
       "\n",
       "   Distance(mi)                                        Description  \\\n",
       "0          0.01  Right lane blocked due to accident on I-70 Eas...   \n",
       "1          0.01  Accident on Brice Rd at Tussing Rd. Expect del...   \n",
       "2          0.01  Accident on OH-32 State Route 32 Westbound at ...   \n",
       "3          0.01  Accident on I-75 Southbound at Exits 52 52B US...   \n",
       "4          0.01  Accident on McEwen Rd at OH-725 Miamisburg Cen...   \n",
       "\n",
       "                      Street          City      County  ...   Stop  \\\n",
       "0                     I-70 E        Dayton  Montgomery  ...  False   \n",
       "1                   Brice Rd  Reynoldsburg    Franklin  ...  False   \n",
       "2             State Route 32  Williamsburg    Clermont  ...  False   \n",
       "3                     I-75 S        Dayton  Montgomery  ...  False   \n",
       "4  Miamisburg Centerville Rd        Dayton  Montgomery  ...  False   \n",
       "\n",
       "  Traffic_Calming Traffic_Signal  Turning_Loop  Sunrise_Sunset  Year  Month  \\\n",
       "0           False          False         False           Night  2016      2   \n",
       "1           False          False         False           Night  2016      2   \n",
       "2           False           True         False           Night  2016      2   \n",
       "3           False          False         False           Night  2016      2   \n",
       "4           False           True         False             Day  2016      2   \n",
       "\n",
       "   Weekday Day  Hour  \n",
       "0        0   8     5  \n",
       "1        0   8     6  \n",
       "2        0   8     6  \n",
       "3        0   8     7  \n",
       "4        0   8     7  \n",
       "\n",
       "[5 rows x 41 columns]"
      ]
     },
     "execution_count": 13,
     "metadata": {},
     "output_type": "execute_result"
    }
   ],
   "source": [
    "df.head(5)"
   ]
  },
  {
   "cell_type": "code",
   "execution_count": 18,
   "metadata": {},
   "outputs": [],
   "source": [
    "year_df = pd.DataFrame(df['Year'].value_counts()).reset_index().sort_values(by='Year', ascending=True)\n",
    "year = year_df.rename(columns={'index':'year','Year':'cases'})"
   ]
  },
  {
   "cell_type": "code",
   "execution_count": 20,
   "metadata": {},
   "outputs": [],
   "source": [
    "year.to_csv(\"E:/desktop/2023win/visualization/DATA/Car/AfterCalculate/year_count.csv\", index=False)"
   ]
  },
  {
   "cell_type": "markdown",
   "metadata": {},
   "source": [
    "### *month*"
   ]
  },
  {
   "cell_type": "code",
   "execution_count": 23,
   "metadata": {},
   "outputs": [],
   "source": [
    "month_df = pd.DataFrame(df.Start_Time.dt.month.value_counts()).reset_index()\n",
    "month = month_df.rename(columns={'index':'month#','month#':'cases'}).sort_values(by='month#', ascending=True)\n",
    "\n",
    "# adding month name as a column\n",
    "month_map = {1:'Jan' , 2:'Feb' , 3:'Mar' , 4:'Apr' , 5:'May' , 6:'Jun', 7:'Jul' , 8:'Aug', 9:'Sep',10:'Oct' , 11:'Nov' , 12:'Dec'}\n",
    "month['month_name'] = month['month#'].map(month_map)"
   ]
  },
  {
   "cell_type": "code",
   "execution_count": 25,
   "metadata": {},
   "outputs": [],
   "source": [
    "month.to_csv(\"E:/desktop/2023win/visualization/DATA/Car/AfterCalculate/month_count.csv\", index=False)"
   ]
  },
  {
   "cell_type": "markdown",
   "metadata": {},
   "source": [
    "### *周*"
   ]
  },
  {
   "cell_type": "code",
   "execution_count": 26,
   "metadata": {},
   "outputs": [],
   "source": [
    "dow = pd.DataFrame(df['Start_Time'].dt.dayofweek.value_counts()).reset_index()\n",
    "dow = dow.rename(columns={'index':'day_of_week', 'Start_Time':'cases'}).sort_values(by='day_of_week')\n",
    "day_map = {0:'Monday' , 1:'Tuesday' , 2:'Wednesday' , 3:\"Thursday\" , 4:'Friday' , 5:\"Saturday\" , 6:'Sunday'}   \n",
    "dow['weekday'] = dow['day_of_week'].map(day_map)"
   ]
  },
  {
   "cell_type": "code",
   "execution_count": 27,
   "metadata": {},
   "outputs": [],
   "source": [
    "dow.to_csv(\"E:/desktop/2023win/visualization/DATA/Car/AfterCalculate/dow_count.csv\", index=False)"
   ]
  },
  {
   "cell_type": "markdown",
   "metadata": {},
   "source": [
    "### *天*"
   ]
  },
  {
   "cell_type": "code",
   "execution_count": 29,
   "metadata": {},
   "outputs": [],
   "source": [
    "# 24时间\n",
    "hour_of_day = pd.DataFrame(df['Hour'].value_counts()).reset_index().rename(columns={'index':'hour','Hour':'cases'})\n",
    "hour_of_day.sort_values(by='hour', inplace=True)"
   ]
  },
  {
   "cell_type": "code",
   "execution_count": 31,
   "metadata": {},
   "outputs": [],
   "source": [
    "# 24时间\n",
    "hour_of_day.to_csv(\"E:/desktop/2023win/visualization/DATA/Car/AfterCalculate/hour_of_day.csv\", index=False)"
   ]
  },
  {
   "cell_type": "markdown",
   "metadata": {},
   "source": [
    "### *等级*"
   ]
  },
  {
   "cell_type": "code",
   "execution_count": 19,
   "metadata": {},
   "outputs": [],
   "source": [
    "# Calculate the percentage of each severity level\n",
    "severity = df['Severity'].value_counts(normalize=True).round(2) * 100"
   ]
  },
  {
   "cell_type": "code",
   "execution_count": 21,
   "metadata": {},
   "outputs": [],
   "source": [
    "severity.to_csv(\"E:/desktop/2023win/visualization/DATA/Car/AfterCalculate/severity_all.csv\", index=False)"
   ]
  },
  {
   "cell_type": "code",
   "execution_count": 17,
   "metadata": {},
   "outputs": [],
   "source": [
    "df_subset = df[['Year', 'Severity']]\n",
    "\n",
    "# 使用 groupby 计算每年各严重程度的事故数量\n",
    "accidents_by_year_severity = df_subset.groupby(['Year', 'Severity']).size().unstack()"
   ]
  },
  {
   "cell_type": "code",
   "execution_count": 22,
   "metadata": {},
   "outputs": [],
   "source": [
    "accidents_by_year_severity.to_csv(\"E:/desktop/2023win/visualization/DATA/Car/AfterCalculate/year_severity.csv\", index=False)"
   ]
  },
  {
   "cell_type": "markdown",
   "metadata": {},
   "source": [
    "### *weather*"
   ]
  },
  {
   "cell_type": "code",
   "execution_count": 23,
   "metadata": {},
   "outputs": [
    {
     "name": "stdout",
     "output_type": "stream",
     "text": [
      "No. of Weather Conditions: 142\n",
      "\n",
      "List of unique weather conditions: ['Light Rain', 'Overcast', 'Mostly Cloudy', 'Rain', 'Light Snow', 'Haze', 'Scattered Clouds', 'Partly Cloudy', 'Clear', 'Snow', 'Light Freezing Drizzle', 'Light Drizzle', 'Fog', 'Shallow Fog', 'Heavy Rain', 'Light Freezing Rain', 'Cloudy', 'Drizzle', 'Light Rain Showers', 'Mist', 'Smoke', 'Patches of Fog', 'Light Freezing Fog', 'Light Haze', 'Light Thunderstorms and Rain', 'Thunderstorms and Rain', 'Fair', 'Volcanic Ash', 'Blowing Sand', 'Blowing Dust / Windy', 'Widespread Dust', 'Fair / Windy', 'Rain Showers', 'Light Rain / Windy', 'Hail', 'Heavy Drizzle', 'Showers in the Vicinity', 'Light Rain Shower', 'Light Rain with Thunder', 'Mostly Cloudy / Windy', 'Partly Cloudy / Windy', 'Thunder in the Vicinity', 'T-Storm', 'Heavy Thunderstorms and Rain', 'Thunderstorm', 'Thunder', 'Heavy T-Storm', 'Funnel Cloud', 'Heavy T-Storm / Windy', 'Blowing Snow', 'Light Thunderstorms and Snow', 'Heavy Snow', 'Low Drifting Snow', 'Light Ice Pellets', 'Ice Pellets', 'Squalls', 'N/A Precipitation', 'Cloudy / Windy', 'Light Fog', 'Snow Grains', 'Snow Showers', 'Heavy Thunderstorms and Snow', 'Rain / Windy', 'Heavy Rain / Windy', 'Heavy Ice Pellets', 'Light Snow / Windy', 'Heavy Freezing Rain', 'Small Hail', 'Heavy Rain Showers', 'Thunder / Windy', 'Drizzle and Fog', 'T-Storm / Windy', 'Blowing Dust', 'Smoke / Windy', 'Haze / Windy', 'Tornado', 'Light Drizzle / Windy', 'Widespread Dust / Windy', 'Wintry Mix', 'Wintry Mix / Windy', 'Light Snow with Thunder', 'Fog / Windy', 'Light Snow Shower', 'Sleet', 'Light Snow and Sleet', 'Rain Shower', 'Snow and Sleet', 'Snow / Windy', 'Light Sleet', 'Heavy Snow / Windy', 'Freezing Drizzle', 'Light Freezing Rain / Windy', 'Thunder / Wintry Mix', 'Blowing Snow / Windy', 'Freezing Rain', 'Light Snow and Sleet / Windy', 'Snow and Sleet / Windy', 'Sleet / Windy', 'Heavy Freezing Rain / Windy', 'Squalls / Windy', 'Light Rain Shower / Windy', 'Snow and Thunder / Windy', 'Light Sleet / Windy', 'Sand / Dust Whirlwinds', 'Drizzle / Windy', 'Sand / Dust Whirls Nearby', 'Thunder and Hail', 'Heavy Sleet', 'Freezing Rain / Windy', 'Partial Fog', 'Thunder / Wintry Mix / Windy', 'Patches of Fog / Windy', 'Rain and Sleet', 'Light Snow Grains', 'Partial Fog / Windy', 'Sand / Dust Whirlwinds / Windy', 'Snow and Thunder', 'Heavy Snow with Thunder', 'Light Snow Showers', 'Heavy Blowing Snow', 'Light Hail', 'Heavy Smoke', 'Heavy Thunderstorms with Small Hail', 'Light Thunderstorm', 'Heavy Freezing Drizzle', 'Light Blowing Snow', 'Thunderstorms and Snow', 'Dust Whirls', 'Mist / Windy', 'Rain Shower / Windy', 'Sleet and Thunder', 'Heavy Sleet and Thunder', 'Drifting Snow / Windy', 'Shallow Fog / Windy', 'Thunder and Hail / Windy', 'Light Snow Shower / Windy', 'Heavy Sleet / Windy', 'Sand / Windy', 'Heavy Rain Shower / Windy', 'Blowing Snow Nearby', 'Heavy Rain Shower', 'Drifting Snow']\n"
     ]
    }
   ],
   "source": [
    "print(\"No. of Weather Conditions:\", len(df[\"Weather_Condition\"].unique()))\n",
    "\n",
    "# To view the complete list of 142 weather descriptions, run the following code\n",
    "print(\"\\nList of unique weather conditions:\", list(df[\"Weather_Condition\"].unique()))"
   ]
  },
  {
   "cell_type": "code",
   "execution_count": 24,
   "metadata": {},
   "outputs": [],
   "source": [
    "# 通用天气来代替\n",
    "df.loc[df[\"Weather_Condition\"].str.contains(\"Thunder|T-Storm\", na=False), \"Weather_Condition\"] = \"Thunderstorm\"\n",
    "df.loc[df[\"Weather_Condition\"].str.contains(\"Snow|Sleet|Wintry\", na=False), \"Weather_Condition\"] = \"Snow\"\n",
    "df.loc[df[\"Weather_Condition\"].str.contains(\"Rain|Drizzle|Shower\", na=False), \"Weather_Condition\"] = \"Rain\"\n",
    "df.loc[df[\"Weather_Condition\"].str.contains(\"Wind|Squalls\", na=False), \"Weather_Condition\"] = \"Windy\"\n",
    "df.loc[df[\"Weather_Condition\"].str.contains(\"Hail|Pellets\", na=False), \"Weather_Condition\"] = \"Hail\"\n",
    "df.loc[df[\"Weather_Condition\"].str.contains(\"Fair\", na=False), \"Weather_Condition\"] = \"Clear\"\n",
    "df.loc[df[\"Weather_Condition\"].str.contains(\"Cloud|Overcast\", na=False), \"Weather_Condition\"] = \"Cloudy\"\n",
    "df.loc[df[\"Weather_Condition\"].str.contains(\"Mist|Haze|Fog\", na=False), \"Weather_Condition\"] = \"Fog\"\n",
    "df.loc[df[\"Weather_Condition\"].str.contains(\"Sand|Dust\", na=False), \"Weather_Condition\"] = \"Sand\"\n",
    "df.loc[df[\"Weather_Condition\"].str.contains(\"Smoke|Volcanic Ash\", na=False), \"Weather_Condition\"] = \"Smoke\"\n",
    "df.loc[df[\"Weather_Condition\"].str.contains(\"N/A Precipitation\", na=False), \"Weather_Condition\"] = np.nan"
   ]
  },
  {
   "cell_type": "code",
   "execution_count": 28,
   "metadata": {},
   "outputs": [],
   "source": [
    "wc = pd.DataFrame(df['Weather_Condition'].value_counts()).reset_index().sort_values(by='Weather_Condition', ascending=False)\n",
    "wc.rename(columns={'index':'weather_condition', 'Weather_Condition':'frequency'}, inplace=True)"
   ]
  },
  {
   "cell_type": "code",
   "execution_count": 30,
   "metadata": {},
   "outputs": [],
   "source": [
    "wc.to_csv(\"E:/desktop/2023win/visualization/DATA/Car/AfterCalculate/weather_all.csv\", index=False)"
   ]
  },
  {
   "cell_type": "markdown",
   "metadata": {},
   "source": [
    "### *交通*"
   ]
  },
  {
   "cell_type": "code",
   "execution_count": 31,
   "metadata": {},
   "outputs": [],
   "source": [
    "road_features = [\"Amenity\", \"Bump\", \"Crossing\", \"Give_Way\", \"Junction\", \"No_Exit\", \"Railway\", \"Roundabout\", \"Station\", \"Stop\", \"Traffic_Calming\", \"Traffic_Signal\"]\n",
    "\n",
    "road_feat = df[road_features].sum().sort_values(ascending=False)"
   ]
  },
  {
   "cell_type": "code",
   "execution_count": 33,
   "metadata": {},
   "outputs": [],
   "source": [
    "road_feat.to_csv(\"E:/desktop/2023win/visualization/DATA/Car/AfterCalculate/road_feature.csv\", index=False)"
   ]
  }
 ],
 "metadata": {
  "kernelspec": {
   "display_name": "base",
   "language": "python",
   "name": "python3"
  },
  "language_info": {
   "codemirror_mode": {
    "name": "ipython",
    "version": 3
   },
   "file_extension": ".py",
   "mimetype": "text/x-python",
   "name": "python",
   "nbconvert_exporter": "python",
   "pygments_lexer": "ipython3",
   "version": "3.9.13"
  }
 },
 "nbformat": 4,
 "nbformat_minor": 2
}
